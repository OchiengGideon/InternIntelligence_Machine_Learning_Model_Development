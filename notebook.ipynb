{
 "cells": [
  {
   "cell_type": "code",
   "execution_count": 1,
   "metadata": {},
   "outputs": [],
   "source": [
    "import pandas as pd\n",
    "import numpy as np\n",
    "import matplotlib.pyplot as plt\n",
    "import seaborn as sns\n"
   ]
  },
  {
   "cell_type": "code",
   "execution_count": 2,
   "metadata": {},
   "outputs": [],
   "source": [
    "#Loading the datasets\n",
    "df_customer = pd.read_csv('Ecommerce Order Dataset/train/df_Customers.csv')\n",
    "df_orderitem = pd.read_csv('Ecommerce Order Dataset/train/df_OrderItems.csv')\n",
    "df_orders = pd.read_csv('Ecommerce Order Dataset/train/df_Orders.csv')\n",
    "df_Payments = pd.read_csv('Ecommerce Order Dataset/train/df_Payments.csv')\n",
    "df_Products = pd.read_csv('Ecommerce Order Dataset/train/df_Products.csv')"
   ]
  },
  {
   "cell_type": "markdown",
   "metadata": {},
   "source": [
    "## Data Understanding\n",
    "### Customers.csv"
   ]
  },
  {
   "cell_type": "code",
   "execution_count": 3,
   "metadata": {},
   "outputs": [
    {
     "name": "stdout",
     "output_type": "stream",
     "text": [
      "<class 'pandas.core.frame.DataFrame'>\n",
      "RangeIndex: 89316 entries, 0 to 89315\n",
      "Data columns (total 4 columns):\n",
      " #   Column                    Non-Null Count  Dtype \n",
      "---  ------                    --------------  ----- \n",
      " 0   customer_id               89316 non-null  object\n",
      " 1   customer_zip_code_prefix  89316 non-null  int64 \n",
      " 2   customer_city             89316 non-null  object\n",
      " 3   customer_state            89316 non-null  object\n",
      "dtypes: int64(1), object(3)\n",
      "memory usage: 2.7+ MB\n"
     ]
    }
   ],
   "source": [
    "df_customer.info()"
   ]
  },
  {
   "cell_type": "code",
   "execution_count": 4,
   "metadata": {},
   "outputs": [
    {
     "data": {
      "application/vnd.microsoft.datawrangler.viewer.v0+json": {
       "columns": [
        {
         "name": "index",
         "rawType": "object",
         "type": "string"
        },
        {
         "name": "customer_zip_code_prefix",
         "rawType": "float64",
         "type": "float"
        }
       ],
       "conversionMethod": "pd.DataFrame",
       "ref": "5c84796d-e410-4236-b116-075ec3c63350",
       "rows": [
        [
         "count",
         "89316.0"
        ],
        [
         "mean",
         "40499.471080209594"
        ],
        [
         "std",
         "31194.386361248085"
        ],
        [
         "min",
         "1003.0"
        ],
        [
         "25%",
         "9785.0"
        ],
        [
         "50%",
         "35480.0"
        ],
        [
         "75%",
         "70040.0"
        ],
        [
         "max",
         "99990.0"
        ]
       ],
       "shape": {
        "columns": 1,
        "rows": 8
       }
      },
      "text/html": [
       "<div>\n",
       "<style scoped>\n",
       "    .dataframe tbody tr th:only-of-type {\n",
       "        vertical-align: middle;\n",
       "    }\n",
       "\n",
       "    .dataframe tbody tr th {\n",
       "        vertical-align: top;\n",
       "    }\n",
       "\n",
       "    .dataframe thead th {\n",
       "        text-align: right;\n",
       "    }\n",
       "</style>\n",
       "<table border=\"1\" class=\"dataframe\">\n",
       "  <thead>\n",
       "    <tr style=\"text-align: right;\">\n",
       "      <th></th>\n",
       "      <th>customer_zip_code_prefix</th>\n",
       "    </tr>\n",
       "  </thead>\n",
       "  <tbody>\n",
       "    <tr>\n",
       "      <th>count</th>\n",
       "      <td>89316.000000</td>\n",
       "    </tr>\n",
       "    <tr>\n",
       "      <th>mean</th>\n",
       "      <td>40499.471080</td>\n",
       "    </tr>\n",
       "    <tr>\n",
       "      <th>std</th>\n",
       "      <td>31194.386361</td>\n",
       "    </tr>\n",
       "    <tr>\n",
       "      <th>min</th>\n",
       "      <td>1003.000000</td>\n",
       "    </tr>\n",
       "    <tr>\n",
       "      <th>25%</th>\n",
       "      <td>9785.000000</td>\n",
       "    </tr>\n",
       "    <tr>\n",
       "      <th>50%</th>\n",
       "      <td>35480.000000</td>\n",
       "    </tr>\n",
       "    <tr>\n",
       "      <th>75%</th>\n",
       "      <td>70040.000000</td>\n",
       "    </tr>\n",
       "    <tr>\n",
       "      <th>max</th>\n",
       "      <td>99990.000000</td>\n",
       "    </tr>\n",
       "  </tbody>\n",
       "</table>\n",
       "</div>"
      ],
      "text/plain": [
       "       customer_zip_code_prefix\n",
       "count              89316.000000\n",
       "mean               40499.471080\n",
       "std                31194.386361\n",
       "min                 1003.000000\n",
       "25%                 9785.000000\n",
       "50%                35480.000000\n",
       "75%                70040.000000\n",
       "max                99990.000000"
      ]
     },
     "execution_count": 4,
     "metadata": {},
     "output_type": "execute_result"
    }
   ],
   "source": [
    "df_customer.describe()"
   ]
  },
  {
   "cell_type": "code",
   "execution_count": 5,
   "metadata": {},
   "outputs": [
    {
     "data": {
      "application/vnd.microsoft.datawrangler.viewer.v0+json": {
       "columns": [
        {
         "name": "index",
         "rawType": "object",
         "type": "string"
        },
        {
         "name": "customer_id",
         "rawType": "object",
         "type": "unknown"
        },
        {
         "name": "customer_city",
         "rawType": "object",
         "type": "unknown"
        },
        {
         "name": "customer_state",
         "rawType": "object",
         "type": "unknown"
        }
       ],
       "conversionMethod": "pd.DataFrame",
       "ref": "9c787c09-6c95-4215-b24c-1790a65560be",
       "rows": [
        [
         "count",
         "89316",
         "89316",
         "89316"
        ],
        [
         "unique",
         "89316",
         "3735",
         "27"
        ],
        [
         "top",
         "rhevVNXYJnEs",
         "sao paulo",
         "SP"
        ],
        [
         "freq",
         "1",
         "14352",
         "37879"
        ]
       ],
       "shape": {
        "columns": 3,
        "rows": 4
       }
      },
      "text/html": [
       "<div>\n",
       "<style scoped>\n",
       "    .dataframe tbody tr th:only-of-type {\n",
       "        vertical-align: middle;\n",
       "    }\n",
       "\n",
       "    .dataframe tbody tr th {\n",
       "        vertical-align: top;\n",
       "    }\n",
       "\n",
       "    .dataframe thead th {\n",
       "        text-align: right;\n",
       "    }\n",
       "</style>\n",
       "<table border=\"1\" class=\"dataframe\">\n",
       "  <thead>\n",
       "    <tr style=\"text-align: right;\">\n",
       "      <th></th>\n",
       "      <th>customer_id</th>\n",
       "      <th>customer_city</th>\n",
       "      <th>customer_state</th>\n",
       "    </tr>\n",
       "  </thead>\n",
       "  <tbody>\n",
       "    <tr>\n",
       "      <th>count</th>\n",
       "      <td>89316</td>\n",
       "      <td>89316</td>\n",
       "      <td>89316</td>\n",
       "    </tr>\n",
       "    <tr>\n",
       "      <th>unique</th>\n",
       "      <td>89316</td>\n",
       "      <td>3735</td>\n",
       "      <td>27</td>\n",
       "    </tr>\n",
       "    <tr>\n",
       "      <th>top</th>\n",
       "      <td>rhevVNXYJnEs</td>\n",
       "      <td>sao paulo</td>\n",
       "      <td>SP</td>\n",
       "    </tr>\n",
       "    <tr>\n",
       "      <th>freq</th>\n",
       "      <td>1</td>\n",
       "      <td>14352</td>\n",
       "      <td>37879</td>\n",
       "    </tr>\n",
       "  </tbody>\n",
       "</table>\n",
       "</div>"
      ],
      "text/plain": [
       "         customer_id customer_city customer_state\n",
       "count          89316         89316          89316\n",
       "unique         89316          3735             27\n",
       "top     rhevVNXYJnEs     sao paulo             SP\n",
       "freq               1         14352          37879"
      ]
     },
     "execution_count": 5,
     "metadata": {},
     "output_type": "execute_result"
    }
   ],
   "source": [
    "df_customer.describe(include=['O'])"
   ]
  },
  {
   "cell_type": "markdown",
   "metadata": {},
   "source": [
    "### df_orderitem"
   ]
  },
  {
   "cell_type": "code",
   "execution_count": 6,
   "metadata": {},
   "outputs": [
    {
     "name": "stdout",
     "output_type": "stream",
     "text": [
      "<class 'pandas.core.frame.DataFrame'>\n",
      "RangeIndex: 89316 entries, 0 to 89315\n",
      "Data columns (total 5 columns):\n",
      " #   Column            Non-Null Count  Dtype  \n",
      "---  ------            --------------  -----  \n",
      " 0   order_id          89316 non-null  object \n",
      " 1   product_id        89316 non-null  object \n",
      " 2   seller_id         89316 non-null  object \n",
      " 3   price             89316 non-null  float64\n",
      " 4   shipping_charges  89316 non-null  float64\n",
      "dtypes: float64(2), object(3)\n",
      "memory usage: 3.4+ MB\n"
     ]
    }
   ],
   "source": [
    "df_orderitem.info()"
   ]
  },
  {
   "cell_type": "code",
   "execution_count": 7,
   "metadata": {},
   "outputs": [
    {
     "data": {
      "application/vnd.microsoft.datawrangler.viewer.v0+json": {
       "columns": [
        {
         "name": "index",
         "rawType": "object",
         "type": "string"
        },
        {
         "name": "price",
         "rawType": "float64",
         "type": "float"
        },
        {
         "name": "shipping_charges",
         "rawType": "float64",
         "type": "float"
        }
       ],
       "conversionMethod": "pd.DataFrame",
       "ref": "4d113228-bde2-4454-951c-a730a89e424f",
       "rows": [
        [
         "count",
         "89316.0",
         "89316.0"
        ],
        [
         "mean",
         "340.900542903847",
         "44.283209839222536"
        ],
        [
         "std",
         "557.4598970792581",
         "37.672491287608494"
        ],
        [
         "min",
         "0.85",
         "0.0"
        ],
        [
         "25%",
         "59.65",
         "20.11"
        ],
        [
         "50%",
         "136.9",
         "35.055"
        ],
        [
         "75%",
         "399.2",
         "57.19"
        ],
        [
         "max",
         "6735.0",
         "409.68"
        ]
       ],
       "shape": {
        "columns": 2,
        "rows": 8
       }
      },
      "text/html": [
       "<div>\n",
       "<style scoped>\n",
       "    .dataframe tbody tr th:only-of-type {\n",
       "        vertical-align: middle;\n",
       "    }\n",
       "\n",
       "    .dataframe tbody tr th {\n",
       "        vertical-align: top;\n",
       "    }\n",
       "\n",
       "    .dataframe thead th {\n",
       "        text-align: right;\n",
       "    }\n",
       "</style>\n",
       "<table border=\"1\" class=\"dataframe\">\n",
       "  <thead>\n",
       "    <tr style=\"text-align: right;\">\n",
       "      <th></th>\n",
       "      <th>price</th>\n",
       "      <th>shipping_charges</th>\n",
       "    </tr>\n",
       "  </thead>\n",
       "  <tbody>\n",
       "    <tr>\n",
       "      <th>count</th>\n",
       "      <td>89316.000000</td>\n",
       "      <td>89316.000000</td>\n",
       "    </tr>\n",
       "    <tr>\n",
       "      <th>mean</th>\n",
       "      <td>340.900543</td>\n",
       "      <td>44.283210</td>\n",
       "    </tr>\n",
       "    <tr>\n",
       "      <th>std</th>\n",
       "      <td>557.459897</td>\n",
       "      <td>37.672491</td>\n",
       "    </tr>\n",
       "    <tr>\n",
       "      <th>min</th>\n",
       "      <td>0.850000</td>\n",
       "      <td>0.000000</td>\n",
       "    </tr>\n",
       "    <tr>\n",
       "      <th>25%</th>\n",
       "      <td>59.650000</td>\n",
       "      <td>20.110000</td>\n",
       "    </tr>\n",
       "    <tr>\n",
       "      <th>50%</th>\n",
       "      <td>136.900000</td>\n",
       "      <td>35.055000</td>\n",
       "    </tr>\n",
       "    <tr>\n",
       "      <th>75%</th>\n",
       "      <td>399.200000</td>\n",
       "      <td>57.190000</td>\n",
       "    </tr>\n",
       "    <tr>\n",
       "      <th>max</th>\n",
       "      <td>6735.000000</td>\n",
       "      <td>409.680000</td>\n",
       "    </tr>\n",
       "  </tbody>\n",
       "</table>\n",
       "</div>"
      ],
      "text/plain": [
       "              price  shipping_charges\n",
       "count  89316.000000      89316.000000\n",
       "mean     340.900543         44.283210\n",
       "std      557.459897         37.672491\n",
       "min        0.850000          0.000000\n",
       "25%       59.650000         20.110000\n",
       "50%      136.900000         35.055000\n",
       "75%      399.200000         57.190000\n",
       "max     6735.000000        409.680000"
      ]
     },
     "execution_count": 7,
     "metadata": {},
     "output_type": "execute_result"
    }
   ],
   "source": [
    "df_orderitem.describe()"
   ]
  },
  {
   "cell_type": "code",
   "execution_count": 8,
   "metadata": {},
   "outputs": [
    {
     "data": {
      "application/vnd.microsoft.datawrangler.viewer.v0+json": {
       "columns": [
        {
         "name": "index",
         "rawType": "object",
         "type": "string"
        },
        {
         "name": "order_id",
         "rawType": "object",
         "type": "unknown"
        },
        {
         "name": "product_id",
         "rawType": "object",
         "type": "unknown"
        },
        {
         "name": "seller_id",
         "rawType": "object",
         "type": "unknown"
        }
       ],
       "conversionMethod": "pd.DataFrame",
       "ref": "26f910da-3bfe-45fa-842d-25aa7c515643",
       "rows": [
        [
         "count",
         "89316",
         "89316",
         "89316"
        ],
        [
         "unique",
         "89316",
         "27451",
         "2929"
        ],
        [
         "top",
         "Xo1fqyXOC6CR",
         "0vbEvli2JYJu",
         "RKad98cTxhSb"
        ],
        [
         "freq",
         "1",
         "405",
         "1657"
        ]
       ],
       "shape": {
        "columns": 3,
        "rows": 4
       }
      },
      "text/html": [
       "<div>\n",
       "<style scoped>\n",
       "    .dataframe tbody tr th:only-of-type {\n",
       "        vertical-align: middle;\n",
       "    }\n",
       "\n",
       "    .dataframe tbody tr th {\n",
       "        vertical-align: top;\n",
       "    }\n",
       "\n",
       "    .dataframe thead th {\n",
       "        text-align: right;\n",
       "    }\n",
       "</style>\n",
       "<table border=\"1\" class=\"dataframe\">\n",
       "  <thead>\n",
       "    <tr style=\"text-align: right;\">\n",
       "      <th></th>\n",
       "      <th>order_id</th>\n",
       "      <th>product_id</th>\n",
       "      <th>seller_id</th>\n",
       "    </tr>\n",
       "  </thead>\n",
       "  <tbody>\n",
       "    <tr>\n",
       "      <th>count</th>\n",
       "      <td>89316</td>\n",
       "      <td>89316</td>\n",
       "      <td>89316</td>\n",
       "    </tr>\n",
       "    <tr>\n",
       "      <th>unique</th>\n",
       "      <td>89316</td>\n",
       "      <td>27451</td>\n",
       "      <td>2929</td>\n",
       "    </tr>\n",
       "    <tr>\n",
       "      <th>top</th>\n",
       "      <td>Xo1fqyXOC6CR</td>\n",
       "      <td>0vbEvli2JYJu</td>\n",
       "      <td>RKad98cTxhSb</td>\n",
       "    </tr>\n",
       "    <tr>\n",
       "      <th>freq</th>\n",
       "      <td>1</td>\n",
       "      <td>405</td>\n",
       "      <td>1657</td>\n",
       "    </tr>\n",
       "  </tbody>\n",
       "</table>\n",
       "</div>"
      ],
      "text/plain": [
       "            order_id    product_id     seller_id\n",
       "count          89316         89316         89316\n",
       "unique         89316         27451          2929\n",
       "top     Xo1fqyXOC6CR  0vbEvli2JYJu  RKad98cTxhSb\n",
       "freq               1           405          1657"
      ]
     },
     "execution_count": 8,
     "metadata": {},
     "output_type": "execute_result"
    }
   ],
   "source": [
    "df_orderitem.describe(include=['O'])"
   ]
  },
  {
   "cell_type": "markdown",
   "metadata": {},
   "source": [
    "### df_orders"
   ]
  },
  {
   "cell_type": "code",
   "execution_count": 9,
   "metadata": {},
   "outputs": [
    {
     "name": "stdout",
     "output_type": "stream",
     "text": [
      "<class 'pandas.core.frame.DataFrame'>\n",
      "RangeIndex: 89316 entries, 0 to 89315\n",
      "Data columns (total 7 columns):\n",
      " #   Column                         Non-Null Count  Dtype \n",
      "---  ------                         --------------  ----- \n",
      " 0   order_id                       89316 non-null  object\n",
      " 1   customer_id                    89316 non-null  object\n",
      " 2   order_status                   89316 non-null  object\n",
      " 3   order_purchase_timestamp       89316 non-null  object\n",
      " 4   order_approved_at              89307 non-null  object\n",
      " 5   order_delivered_timestamp      87427 non-null  object\n",
      " 6   order_estimated_delivery_date  89316 non-null  object\n",
      "dtypes: object(7)\n",
      "memory usage: 4.8+ MB\n"
     ]
    }
   ],
   "source": [
    "df_orders.info()"
   ]
  },
  {
   "cell_type": "code",
   "execution_count": 10,
   "metadata": {},
   "outputs": [
    {
     "data": {
      "application/vnd.microsoft.datawrangler.viewer.v0+json": {
       "columns": [
        {
         "name": "index",
         "rawType": "object",
         "type": "string"
        },
        {
         "name": "order_id",
         "rawType": "object",
         "type": "unknown"
        },
        {
         "name": "customer_id",
         "rawType": "object",
         "type": "unknown"
        },
        {
         "name": "order_status",
         "rawType": "object",
         "type": "unknown"
        },
        {
         "name": "order_purchase_timestamp",
         "rawType": "object",
         "type": "unknown"
        },
        {
         "name": "order_approved_at",
         "rawType": "object",
         "type": "unknown"
        },
        {
         "name": "order_delivered_timestamp",
         "rawType": "object",
         "type": "unknown"
        },
        {
         "name": "order_estimated_delivery_date",
         "rawType": "object",
         "type": "unknown"
        }
       ],
       "conversionMethod": "pd.DataFrame",
       "ref": "f88ef3be-3d83-41a7-912e-ee62a9b94733",
       "rows": [
        [
         "count",
         "89316",
         "89316",
         "89316",
         "89316",
         "89307",
         "87427",
         "89316"
        ],
        [
         "unique",
         "89316",
         "89316",
         "7",
         "72775",
         "68215",
         "71143",
         "444"
        ],
        [
         "top",
         "Xo1fqyXOC6CR",
         "rhevVNXYJnEs",
         "delivered",
         "2017-08-08 20:26:31",
         "2017-08-08 20:43:31",
         "2017-08-14 12:46:18",
         "2017-12-20"
        ],
        [
         "freq",
         "1",
         "1",
         "87428",
         "87",
         "87",
         "87",
         "500"
        ]
       ],
       "shape": {
        "columns": 7,
        "rows": 4
       }
      },
      "text/html": [
       "<div>\n",
       "<style scoped>\n",
       "    .dataframe tbody tr th:only-of-type {\n",
       "        vertical-align: middle;\n",
       "    }\n",
       "\n",
       "    .dataframe tbody tr th {\n",
       "        vertical-align: top;\n",
       "    }\n",
       "\n",
       "    .dataframe thead th {\n",
       "        text-align: right;\n",
       "    }\n",
       "</style>\n",
       "<table border=\"1\" class=\"dataframe\">\n",
       "  <thead>\n",
       "    <tr style=\"text-align: right;\">\n",
       "      <th></th>\n",
       "      <th>order_id</th>\n",
       "      <th>customer_id</th>\n",
       "      <th>order_status</th>\n",
       "      <th>order_purchase_timestamp</th>\n",
       "      <th>order_approved_at</th>\n",
       "      <th>order_delivered_timestamp</th>\n",
       "      <th>order_estimated_delivery_date</th>\n",
       "    </tr>\n",
       "  </thead>\n",
       "  <tbody>\n",
       "    <tr>\n",
       "      <th>count</th>\n",
       "      <td>89316</td>\n",
       "      <td>89316</td>\n",
       "      <td>89316</td>\n",
       "      <td>89316</td>\n",
       "      <td>89307</td>\n",
       "      <td>87427</td>\n",
       "      <td>89316</td>\n",
       "    </tr>\n",
       "    <tr>\n",
       "      <th>unique</th>\n",
       "      <td>89316</td>\n",
       "      <td>89316</td>\n",
       "      <td>7</td>\n",
       "      <td>72775</td>\n",
       "      <td>68215</td>\n",
       "      <td>71143</td>\n",
       "      <td>444</td>\n",
       "    </tr>\n",
       "    <tr>\n",
       "      <th>top</th>\n",
       "      <td>Xo1fqyXOC6CR</td>\n",
       "      <td>rhevVNXYJnEs</td>\n",
       "      <td>delivered</td>\n",
       "      <td>2017-08-08 20:26:31</td>\n",
       "      <td>2017-08-08 20:43:31</td>\n",
       "      <td>2017-08-14 12:46:18</td>\n",
       "      <td>2017-12-20</td>\n",
       "    </tr>\n",
       "    <tr>\n",
       "      <th>freq</th>\n",
       "      <td>1</td>\n",
       "      <td>1</td>\n",
       "      <td>87428</td>\n",
       "      <td>87</td>\n",
       "      <td>87</td>\n",
       "      <td>87</td>\n",
       "      <td>500</td>\n",
       "    </tr>\n",
       "  </tbody>\n",
       "</table>\n",
       "</div>"
      ],
      "text/plain": [
       "            order_id   customer_id order_status order_purchase_timestamp  \\\n",
       "count          89316         89316        89316                    89316   \n",
       "unique         89316         89316            7                    72775   \n",
       "top     Xo1fqyXOC6CR  rhevVNXYJnEs    delivered      2017-08-08 20:26:31   \n",
       "freq               1             1        87428                       87   \n",
       "\n",
       "          order_approved_at order_delivered_timestamp  \\\n",
       "count                 89307                     87427   \n",
       "unique                68215                     71143   \n",
       "top     2017-08-08 20:43:31       2017-08-14 12:46:18   \n",
       "freq                     87                        87   \n",
       "\n",
       "       order_estimated_delivery_date  \n",
       "count                          89316  \n",
       "unique                           444  \n",
       "top                       2017-12-20  \n",
       "freq                             500  "
      ]
     },
     "execution_count": 10,
     "metadata": {},
     "output_type": "execute_result"
    }
   ],
   "source": [
    "df_orders.describe()"
   ]
  },
  {
   "cell_type": "markdown",
   "metadata": {},
   "source": [
    "### df_Payments"
   ]
  },
  {
   "cell_type": "code",
   "execution_count": 11,
   "metadata": {},
   "outputs": [
    {
     "name": "stdout",
     "output_type": "stream",
     "text": [
      "<class 'pandas.core.frame.DataFrame'>\n",
      "RangeIndex: 89316 entries, 0 to 89315\n",
      "Data columns (total 5 columns):\n",
      " #   Column                Non-Null Count  Dtype  \n",
      "---  ------                --------------  -----  \n",
      " 0   order_id              89316 non-null  object \n",
      " 1   payment_sequential    89316 non-null  int64  \n",
      " 2   payment_type          89316 non-null  object \n",
      " 3   payment_installments  89316 non-null  int64  \n",
      " 4   payment_value         89316 non-null  float64\n",
      "dtypes: float64(1), int64(2), object(2)\n",
      "memory usage: 3.4+ MB\n"
     ]
    }
   ],
   "source": [
    "df_Payments.info()"
   ]
  },
  {
   "cell_type": "code",
   "execution_count": 12,
   "metadata": {},
   "outputs": [
    {
     "data": {
      "application/vnd.microsoft.datawrangler.viewer.v0+json": {
       "columns": [
        {
         "name": "index",
         "rawType": "object",
         "type": "string"
        },
        {
         "name": "payment_sequential",
         "rawType": "float64",
         "type": "float"
        },
        {
         "name": "payment_installments",
         "rawType": "float64",
         "type": "float"
        },
        {
         "name": "payment_value",
         "rawType": "float64",
         "type": "float"
        }
       ],
       "conversionMethod": "pd.DataFrame",
       "ref": "46699f61-67fd-40de-9ff3-917a57cd1ae8",
       "rows": [
        [
         "count",
         "89316.0",
         "89316.0",
         "89316.0"
        ],
        [
         "mean",
         "1.0996462000089569",
         "2.9657172287160196",
         "268.65718986519767"
        ],
        [
         "std",
         "0.7726584306396737",
         "2.7964057235419366",
         "344.4095661155258"
        ],
        [
         "min",
         "1.0",
         "0.0",
         "0.0"
        ],
        [
         "25%",
         "1.0",
         "1.0",
         "84.34"
        ],
        [
         "50%",
         "1.0",
         "2.0",
         "171.86"
        ],
        [
         "75%",
         "1.0",
         "4.0",
         "313.53"
        ],
        [
         "max",
         "29.0",
         "24.0",
         "7274.88"
        ]
       ],
       "shape": {
        "columns": 3,
        "rows": 8
       }
      },
      "text/html": [
       "<div>\n",
       "<style scoped>\n",
       "    .dataframe tbody tr th:only-of-type {\n",
       "        vertical-align: middle;\n",
       "    }\n",
       "\n",
       "    .dataframe tbody tr th {\n",
       "        vertical-align: top;\n",
       "    }\n",
       "\n",
       "    .dataframe thead th {\n",
       "        text-align: right;\n",
       "    }\n",
       "</style>\n",
       "<table border=\"1\" class=\"dataframe\">\n",
       "  <thead>\n",
       "    <tr style=\"text-align: right;\">\n",
       "      <th></th>\n",
       "      <th>payment_sequential</th>\n",
       "      <th>payment_installments</th>\n",
       "      <th>payment_value</th>\n",
       "    </tr>\n",
       "  </thead>\n",
       "  <tbody>\n",
       "    <tr>\n",
       "      <th>count</th>\n",
       "      <td>89316.000000</td>\n",
       "      <td>89316.000000</td>\n",
       "      <td>89316.000000</td>\n",
       "    </tr>\n",
       "    <tr>\n",
       "      <th>mean</th>\n",
       "      <td>1.099646</td>\n",
       "      <td>2.965717</td>\n",
       "      <td>268.657190</td>\n",
       "    </tr>\n",
       "    <tr>\n",
       "      <th>std</th>\n",
       "      <td>0.772658</td>\n",
       "      <td>2.796406</td>\n",
       "      <td>344.409566</td>\n",
       "    </tr>\n",
       "    <tr>\n",
       "      <th>min</th>\n",
       "      <td>1.000000</td>\n",
       "      <td>0.000000</td>\n",
       "      <td>0.000000</td>\n",
       "    </tr>\n",
       "    <tr>\n",
       "      <th>25%</th>\n",
       "      <td>1.000000</td>\n",
       "      <td>1.000000</td>\n",
       "      <td>84.340000</td>\n",
       "    </tr>\n",
       "    <tr>\n",
       "      <th>50%</th>\n",
       "      <td>1.000000</td>\n",
       "      <td>2.000000</td>\n",
       "      <td>171.860000</td>\n",
       "    </tr>\n",
       "    <tr>\n",
       "      <th>75%</th>\n",
       "      <td>1.000000</td>\n",
       "      <td>4.000000</td>\n",
       "      <td>313.530000</td>\n",
       "    </tr>\n",
       "    <tr>\n",
       "      <th>max</th>\n",
       "      <td>29.000000</td>\n",
       "      <td>24.000000</td>\n",
       "      <td>7274.880000</td>\n",
       "    </tr>\n",
       "  </tbody>\n",
       "</table>\n",
       "</div>"
      ],
      "text/plain": [
       "       payment_sequential  payment_installments  payment_value\n",
       "count        89316.000000          89316.000000   89316.000000\n",
       "mean             1.099646              2.965717     268.657190\n",
       "std              0.772658              2.796406     344.409566\n",
       "min              1.000000              0.000000       0.000000\n",
       "25%              1.000000              1.000000      84.340000\n",
       "50%              1.000000              2.000000     171.860000\n",
       "75%              1.000000              4.000000     313.530000\n",
       "max             29.000000             24.000000    7274.880000"
      ]
     },
     "execution_count": 12,
     "metadata": {},
     "output_type": "execute_result"
    }
   ],
   "source": [
    "df_Payments.describe()"
   ]
  },
  {
   "cell_type": "code",
   "execution_count": 13,
   "metadata": {},
   "outputs": [
    {
     "data": {
      "application/vnd.microsoft.datawrangler.viewer.v0+json": {
       "columns": [
        {
         "name": "index",
         "rawType": "object",
         "type": "string"
        },
        {
         "name": "order_id",
         "rawType": "object",
         "type": "unknown"
        },
        {
         "name": "payment_type",
         "rawType": "object",
         "type": "unknown"
        }
       ],
       "conversionMethod": "pd.DataFrame",
       "ref": "a66c5fda-e826-40f4-a204-2243810f2ac9",
       "rows": [
        [
         "count",
         "89316",
         "89316"
        ],
        [
         "unique",
         "89316",
         "4"
        ],
        [
         "top",
         "Xo1fqyXOC6CR",
         "credit_card"
        ],
        [
         "freq",
         "1",
         "65814"
        ]
       ],
       "shape": {
        "columns": 2,
        "rows": 4
       }
      },
      "text/html": [
       "<div>\n",
       "<style scoped>\n",
       "    .dataframe tbody tr th:only-of-type {\n",
       "        vertical-align: middle;\n",
       "    }\n",
       "\n",
       "    .dataframe tbody tr th {\n",
       "        vertical-align: top;\n",
       "    }\n",
       "\n",
       "    .dataframe thead th {\n",
       "        text-align: right;\n",
       "    }\n",
       "</style>\n",
       "<table border=\"1\" class=\"dataframe\">\n",
       "  <thead>\n",
       "    <tr style=\"text-align: right;\">\n",
       "      <th></th>\n",
       "      <th>order_id</th>\n",
       "      <th>payment_type</th>\n",
       "    </tr>\n",
       "  </thead>\n",
       "  <tbody>\n",
       "    <tr>\n",
       "      <th>count</th>\n",
       "      <td>89316</td>\n",
       "      <td>89316</td>\n",
       "    </tr>\n",
       "    <tr>\n",
       "      <th>unique</th>\n",
       "      <td>89316</td>\n",
       "      <td>4</td>\n",
       "    </tr>\n",
       "    <tr>\n",
       "      <th>top</th>\n",
       "      <td>Xo1fqyXOC6CR</td>\n",
       "      <td>credit_card</td>\n",
       "    </tr>\n",
       "    <tr>\n",
       "      <th>freq</th>\n",
       "      <td>1</td>\n",
       "      <td>65814</td>\n",
       "    </tr>\n",
       "  </tbody>\n",
       "</table>\n",
       "</div>"
      ],
      "text/plain": [
       "            order_id payment_type\n",
       "count          89316        89316\n",
       "unique         89316            4\n",
       "top     Xo1fqyXOC6CR  credit_card\n",
       "freq               1        65814"
      ]
     },
     "execution_count": 13,
     "metadata": {},
     "output_type": "execute_result"
    }
   ],
   "source": [
    "df_Payments.describe(include=['O'])"
   ]
  },
  {
   "cell_type": "markdown",
   "metadata": {},
   "source": [
    "### df_Products"
   ]
  },
  {
   "cell_type": "code",
   "execution_count": 14,
   "metadata": {},
   "outputs": [
    {
     "name": "stdout",
     "output_type": "stream",
     "text": [
      "<class 'pandas.core.frame.DataFrame'>\n",
      "RangeIndex: 89316 entries, 0 to 89315\n",
      "Data columns (total 6 columns):\n",
      " #   Column                 Non-Null Count  Dtype  \n",
      "---  ------                 --------------  -----  \n",
      " 0   product_id             89316 non-null  object \n",
      " 1   product_category_name  89008 non-null  object \n",
      " 2   product_weight_g       89301 non-null  float64\n",
      " 3   product_length_cm      89301 non-null  float64\n",
      " 4   product_height_cm      89301 non-null  float64\n",
      " 5   product_width_cm       89301 non-null  float64\n",
      "dtypes: float64(4), object(2)\n",
      "memory usage: 4.1+ MB\n"
     ]
    }
   ],
   "source": [
    "df_Products.info()"
   ]
  },
  {
   "cell_type": "code",
   "execution_count": 15,
   "metadata": {},
   "outputs": [
    {
     "data": {
      "application/vnd.microsoft.datawrangler.viewer.v0+json": {
       "columns": [
        {
         "name": "index",
         "rawType": "object",
         "type": "string"
        },
        {
         "name": "product_weight_g",
         "rawType": "float64",
         "type": "float"
        },
        {
         "name": "product_length_cm",
         "rawType": "float64",
         "type": "float"
        },
        {
         "name": "product_height_cm",
         "rawType": "float64",
         "type": "float"
        },
        {
         "name": "product_width_cm",
         "rawType": "float64",
         "type": "float"
        }
       ],
       "conversionMethod": "pd.DataFrame",
       "ref": "df3af4d7-1aab-4008-8a13-6855b8fa8a8f",
       "rows": [
        [
         "count",
         "89301.0",
         "89301.0",
         "89301.0",
         "89301.0"
        ],
        [
         "mean",
         "2087.0681291362916",
         "30.220658223312167",
         "16.559422626846285",
         "23.03421014322348"
        ],
        [
         "std",
         "3747.0392146373724",
         "16.110198938907356",
         "13.38851353884136",
         "11.68827979320377"
        ],
        [
         "min",
         "0.0",
         "7.0",
         "2.0",
         "6.0"
        ],
        [
         "25%",
         "300.0",
         "18.0",
         "8.0",
         "15.0"
        ],
        [
         "50%",
         "700.0",
         "25.0",
         "13.0",
         "20.0"
        ],
        [
         "75%",
         "1800.0",
         "38.0",
         "20.0",
         "30.0"
        ],
        [
         "max",
         "40425.0",
         "105.0",
         "105.0",
         "118.0"
        ]
       ],
       "shape": {
        "columns": 4,
        "rows": 8
       }
      },
      "text/html": [
       "<div>\n",
       "<style scoped>\n",
       "    .dataframe tbody tr th:only-of-type {\n",
       "        vertical-align: middle;\n",
       "    }\n",
       "\n",
       "    .dataframe tbody tr th {\n",
       "        vertical-align: top;\n",
       "    }\n",
       "\n",
       "    .dataframe thead th {\n",
       "        text-align: right;\n",
       "    }\n",
       "</style>\n",
       "<table border=\"1\" class=\"dataframe\">\n",
       "  <thead>\n",
       "    <tr style=\"text-align: right;\">\n",
       "      <th></th>\n",
       "      <th>product_weight_g</th>\n",
       "      <th>product_length_cm</th>\n",
       "      <th>product_height_cm</th>\n",
       "      <th>product_width_cm</th>\n",
       "    </tr>\n",
       "  </thead>\n",
       "  <tbody>\n",
       "    <tr>\n",
       "      <th>count</th>\n",
       "      <td>89301.000000</td>\n",
       "      <td>89301.000000</td>\n",
       "      <td>89301.000000</td>\n",
       "      <td>89301.00000</td>\n",
       "    </tr>\n",
       "    <tr>\n",
       "      <th>mean</th>\n",
       "      <td>2087.068129</td>\n",
       "      <td>30.220658</td>\n",
       "      <td>16.559423</td>\n",
       "      <td>23.03421</td>\n",
       "    </tr>\n",
       "    <tr>\n",
       "      <th>std</th>\n",
       "      <td>3747.039215</td>\n",
       "      <td>16.110199</td>\n",
       "      <td>13.388514</td>\n",
       "      <td>11.68828</td>\n",
       "    </tr>\n",
       "    <tr>\n",
       "      <th>min</th>\n",
       "      <td>0.000000</td>\n",
       "      <td>7.000000</td>\n",
       "      <td>2.000000</td>\n",
       "      <td>6.00000</td>\n",
       "    </tr>\n",
       "    <tr>\n",
       "      <th>25%</th>\n",
       "      <td>300.000000</td>\n",
       "      <td>18.000000</td>\n",
       "      <td>8.000000</td>\n",
       "      <td>15.00000</td>\n",
       "    </tr>\n",
       "    <tr>\n",
       "      <th>50%</th>\n",
       "      <td>700.000000</td>\n",
       "      <td>25.000000</td>\n",
       "      <td>13.000000</td>\n",
       "      <td>20.00000</td>\n",
       "    </tr>\n",
       "    <tr>\n",
       "      <th>75%</th>\n",
       "      <td>1800.000000</td>\n",
       "      <td>38.000000</td>\n",
       "      <td>20.000000</td>\n",
       "      <td>30.00000</td>\n",
       "    </tr>\n",
       "    <tr>\n",
       "      <th>max</th>\n",
       "      <td>40425.000000</td>\n",
       "      <td>105.000000</td>\n",
       "      <td>105.000000</td>\n",
       "      <td>118.00000</td>\n",
       "    </tr>\n",
       "  </tbody>\n",
       "</table>\n",
       "</div>"
      ],
      "text/plain": [
       "       product_weight_g  product_length_cm  product_height_cm  \\\n",
       "count      89301.000000       89301.000000       89301.000000   \n",
       "mean        2087.068129          30.220658          16.559423   \n",
       "std         3747.039215          16.110199          13.388514   \n",
       "min            0.000000           7.000000           2.000000   \n",
       "25%          300.000000          18.000000           8.000000   \n",
       "50%          700.000000          25.000000          13.000000   \n",
       "75%         1800.000000          38.000000          20.000000   \n",
       "max        40425.000000         105.000000         105.000000   \n",
       "\n",
       "       product_width_cm  \n",
       "count       89301.00000  \n",
       "mean           23.03421  \n",
       "std            11.68828  \n",
       "min             6.00000  \n",
       "25%            15.00000  \n",
       "50%            20.00000  \n",
       "75%            30.00000  \n",
       "max           118.00000  "
      ]
     },
     "execution_count": 15,
     "metadata": {},
     "output_type": "execute_result"
    }
   ],
   "source": [
    "df_Products.describe()"
   ]
  },
  {
   "cell_type": "code",
   "execution_count": 16,
   "metadata": {},
   "outputs": [
    {
     "data": {
      "application/vnd.microsoft.datawrangler.viewer.v0+json": {
       "columns": [
        {
         "name": "index",
         "rawType": "object",
         "type": "string"
        },
        {
         "name": "product_id",
         "rawType": "object",
         "type": "unknown"
        },
        {
         "name": "product_category_name",
         "rawType": "object",
         "type": "unknown"
        }
       ],
       "conversionMethod": "pd.DataFrame",
       "ref": "0f49d119-5f2a-4634-b500-b6410c9fbbe8",
       "rows": [
        [
         "count",
         "89316",
         "89008"
        ],
        [
         "unique",
         "27451",
         "70"
        ],
        [
         "top",
         "0vbEvli2JYJu",
         "toys"
        ],
        [
         "freq",
         "405",
         "67027"
        ]
       ],
       "shape": {
        "columns": 2,
        "rows": 4
       }
      },
      "text/html": [
       "<div>\n",
       "<style scoped>\n",
       "    .dataframe tbody tr th:only-of-type {\n",
       "        vertical-align: middle;\n",
       "    }\n",
       "\n",
       "    .dataframe tbody tr th {\n",
       "        vertical-align: top;\n",
       "    }\n",
       "\n",
       "    .dataframe thead th {\n",
       "        text-align: right;\n",
       "    }\n",
       "</style>\n",
       "<table border=\"1\" class=\"dataframe\">\n",
       "  <thead>\n",
       "    <tr style=\"text-align: right;\">\n",
       "      <th></th>\n",
       "      <th>product_id</th>\n",
       "      <th>product_category_name</th>\n",
       "    </tr>\n",
       "  </thead>\n",
       "  <tbody>\n",
       "    <tr>\n",
       "      <th>count</th>\n",
       "      <td>89316</td>\n",
       "      <td>89008</td>\n",
       "    </tr>\n",
       "    <tr>\n",
       "      <th>unique</th>\n",
       "      <td>27451</td>\n",
       "      <td>70</td>\n",
       "    </tr>\n",
       "    <tr>\n",
       "      <th>top</th>\n",
       "      <td>0vbEvli2JYJu</td>\n",
       "      <td>toys</td>\n",
       "    </tr>\n",
       "    <tr>\n",
       "      <th>freq</th>\n",
       "      <td>405</td>\n",
       "      <td>67027</td>\n",
       "    </tr>\n",
       "  </tbody>\n",
       "</table>\n",
       "</div>"
      ],
      "text/plain": [
       "          product_id product_category_name\n",
       "count          89316                 89008\n",
       "unique         27451                    70\n",
       "top     0vbEvli2JYJu                  toys\n",
       "freq             405                 67027"
      ]
     },
     "execution_count": 16,
     "metadata": {},
     "output_type": "execute_result"
    }
   ],
   "source": [
    "df_Products.describe(include=['O'])"
   ]
  },
  {
   "cell_type": "markdown",
   "metadata": {},
   "source": [
    "## Data Cleaning"
   ]
  },
  {
   "cell_type": "code",
   "execution_count": 17,
   "metadata": {},
   "outputs": [],
   "source": [
    "def order_wrangler(df):\n",
    "    \"\"\"\n",
    "    Cleans and processes df_orders by converting date columns to datetime format \n",
    "    and generating new time-based features.\n",
    "\n",
    "    Returns:\n",
    "    pd.DataFrame: A DataFrame with the following new columns:\n",
    "        - approval_delay: Time taken (in hours) between order placement and approval.\n",
    "        - delivery_time: Time taken (in days) from order placement to actual delivery.\n",
    "        - estimated_delivery_days: Estimated delivery time (in days) from order placement.\n",
    "        - delay_flag: Binary flag (1 = Delayed, 0 = On-time) indicating whether the delivery exceeded the estimated date.\n",
    "    \"\"\"\n",
    "\n",
    "    # Convert to datetime format\n",
    "    df['order_purchase_timestamp'] = pd.to_datetime(df['order_purchase_timestamp'], errors='coerce')\n",
    "    df['order_approved_at'] = pd.to_datetime(df['order_approved_at'], errors='coerce')\n",
    "    df['order_delivered_timestamp'] = pd.to_datetime(df['order_delivered_timestamp'], errors='coerce')\n",
    "    df['order_estimated_delivery_date'] = pd.to_datetime(df['order_estimated_delivery_date'], errors='coerce')\n",
    "\n",
    "    # Create new time-based features\n",
    "    df['approval_delay'] = (df['order_approved_at'] - df['order_purchase_timestamp']).dt.total_seconds() / 3600  # Hours\n",
    "    df['delivery_time'] = (df['order_delivered_timestamp'] - df['order_purchase_timestamp']).dt.days  # Days\n",
    "    df['estimated_delivery_days'] = (df['order_estimated_delivery_date'] - df['order_purchase_timestamp']).dt.days  # Days\n",
    "    df['delay_flag'] = (df['order_delivered_timestamp'] > df['order_estimated_delivery_date']).astype(int)  # 1 if delayed, 0 otherwise\n",
    "\n",
    "    # Return the selected columns\n",
    "    return df[['order_id', 'customer_id','approval_delay', 'delivery_time', 'estimated_delivery_days', 'delay_flag']]\n"
   ]
  },
  {
   "cell_type": "code",
   "execution_count": 18,
   "metadata": {},
   "outputs": [
    {
     "data": {
      "application/vnd.microsoft.datawrangler.viewer.v0+json": {
       "columns": [
        {
         "name": "index",
         "rawType": "int64",
         "type": "integer"
        },
        {
         "name": "order_id",
         "rawType": "object",
         "type": "string"
        },
        {
         "name": "customer_id",
         "rawType": "object",
         "type": "string"
        },
        {
         "name": "approval_delay",
         "rawType": "float64",
         "type": "float"
        },
        {
         "name": "delivery_time",
         "rawType": "float64",
         "type": "float"
        },
        {
         "name": "estimated_delivery_days",
         "rawType": "int64",
         "type": "integer"
        },
        {
         "name": "delay_flag",
         "rawType": "int64",
         "type": "integer"
        }
       ],
       "conversionMethod": "pd.DataFrame",
       "ref": "a29e206e-f78d-467d-a526-b00bb580aa89",
       "rows": [
        [
         "0",
         "Axfy13Hk4PIk",
         "hCT0x9JiGXBQ",
         "0.27194444444444443",
         "4.0",
         "17",
         "0"
        ],
        [
         "1",
         "v6px92oS8cLG",
         "PxA7fv9spyhx",
         "0.6636111111111112",
         "13.0",
         "33",
         "0"
        ],
        [
         "2",
         "Ulpf9skrhjfm",
         "g3nXeJkGI0Qw",
         "23.934444444444445",
         "10.0",
         "19",
         "0"
        ],
        [
         "3",
         "bwJVWupf2keN",
         "EOEsCQ6QlpIg",
         "0.17972222222222223",
         "9.0",
         "31",
         "0"
        ],
        [
         "4",
         "Dd0QnrMk9Cj5",
         "mVz5LO2Vd6cL",
         "0.7908333333333334",
         "14.0",
         "26",
         "0"
        ]
       ],
       "shape": {
        "columns": 6,
        "rows": 5
       }
      },
      "text/html": [
       "<div>\n",
       "<style scoped>\n",
       "    .dataframe tbody tr th:only-of-type {\n",
       "        vertical-align: middle;\n",
       "    }\n",
       "\n",
       "    .dataframe tbody tr th {\n",
       "        vertical-align: top;\n",
       "    }\n",
       "\n",
       "    .dataframe thead th {\n",
       "        text-align: right;\n",
       "    }\n",
       "</style>\n",
       "<table border=\"1\" class=\"dataframe\">\n",
       "  <thead>\n",
       "    <tr style=\"text-align: right;\">\n",
       "      <th></th>\n",
       "      <th>order_id</th>\n",
       "      <th>customer_id</th>\n",
       "      <th>approval_delay</th>\n",
       "      <th>delivery_time</th>\n",
       "      <th>estimated_delivery_days</th>\n",
       "      <th>delay_flag</th>\n",
       "    </tr>\n",
       "  </thead>\n",
       "  <tbody>\n",
       "    <tr>\n",
       "      <th>0</th>\n",
       "      <td>Axfy13Hk4PIk</td>\n",
       "      <td>hCT0x9JiGXBQ</td>\n",
       "      <td>0.271944</td>\n",
       "      <td>4.0</td>\n",
       "      <td>17</td>\n",
       "      <td>0</td>\n",
       "    </tr>\n",
       "    <tr>\n",
       "      <th>1</th>\n",
       "      <td>v6px92oS8cLG</td>\n",
       "      <td>PxA7fv9spyhx</td>\n",
       "      <td>0.663611</td>\n",
       "      <td>13.0</td>\n",
       "      <td>33</td>\n",
       "      <td>0</td>\n",
       "    </tr>\n",
       "    <tr>\n",
       "      <th>2</th>\n",
       "      <td>Ulpf9skrhjfm</td>\n",
       "      <td>g3nXeJkGI0Qw</td>\n",
       "      <td>23.934444</td>\n",
       "      <td>10.0</td>\n",
       "      <td>19</td>\n",
       "      <td>0</td>\n",
       "    </tr>\n",
       "    <tr>\n",
       "      <th>3</th>\n",
       "      <td>bwJVWupf2keN</td>\n",
       "      <td>EOEsCQ6QlpIg</td>\n",
       "      <td>0.179722</td>\n",
       "      <td>9.0</td>\n",
       "      <td>31</td>\n",
       "      <td>0</td>\n",
       "    </tr>\n",
       "    <tr>\n",
       "      <th>4</th>\n",
       "      <td>Dd0QnrMk9Cj5</td>\n",
       "      <td>mVz5LO2Vd6cL</td>\n",
       "      <td>0.790833</td>\n",
       "      <td>14.0</td>\n",
       "      <td>26</td>\n",
       "      <td>0</td>\n",
       "    </tr>\n",
       "  </tbody>\n",
       "</table>\n",
       "</div>"
      ],
      "text/plain": [
       "       order_id   customer_id  approval_delay  delivery_time  \\\n",
       "0  Axfy13Hk4PIk  hCT0x9JiGXBQ        0.271944            4.0   \n",
       "1  v6px92oS8cLG  PxA7fv9spyhx        0.663611           13.0   \n",
       "2  Ulpf9skrhjfm  g3nXeJkGI0Qw       23.934444           10.0   \n",
       "3  bwJVWupf2keN  EOEsCQ6QlpIg        0.179722            9.0   \n",
       "4  Dd0QnrMk9Cj5  mVz5LO2Vd6cL        0.790833           14.0   \n",
       "\n",
       "   estimated_delivery_days  delay_flag  \n",
       "0                       17           0  \n",
       "1                       33           0  \n",
       "2                       19           0  \n",
       "3                       31           0  \n",
       "4                       26           0  "
      ]
     },
     "execution_count": 18,
     "metadata": {},
     "output_type": "execute_result"
    }
   ],
   "source": [
    "df_orders_cleaned = order_wrangler(df_orders)\n",
    "df_orders_cleaned.head()"
   ]
  },
  {
   "cell_type": "code",
   "execution_count": 19,
   "metadata": {},
   "outputs": [],
   "source": [
    "def products_wrangler(df):\n",
    "    \"\"\"\n",
    "    Cleans and processes the products dataset by calculating product size (volume) and filtering out rows with missing values.\n",
    "\n",
    "    Parameters:\n",
    "    df (pd.DataFrame): DataFrame containing product details.\n",
    "\n",
    "    Returns:\n",
    "    pd.DataFrame: A DataFrame with the following new column:\n",
    "        - product_volume_cm3: Computed as (length * width * height).\n",
    "    \"\"\"\n",
    "\n",
    "    # Drop rows with missing values in relevant columns\n",
    "    df = df.dropna(subset=['product_weight_g', 'product_length_cm', 'product_height_cm', 'product_width_cm'])\n",
    "\n",
    "    # Compute product volume (cubic cm)\n",
    "    df['product_volume_cm3'] = df['product_length_cm'] * df['product_width_cm'] * df['product_height_cm']\n",
    "\n",
    "    # Return the relevant columns\n",
    "    return df[['product_id', 'product_weight_g', 'product_volume_cm3']]\n"
   ]
  },
  {
   "cell_type": "code",
   "execution_count": 20,
   "metadata": {},
   "outputs": [
    {
     "name": "stdout",
     "output_type": "stream",
     "text": [
      "(89301, 3)\n",
      "     product_id  product_weight_g  product_volume_cm3\n",
      "0  90K0C1fIyQUf             491.0              3648.0\n",
      "1  qejhpMGGVcsl             440.0              4284.0\n",
      "2  qUS5d2pEAyxJ            2200.0              4096.0\n",
      "3  639iGvMyv0De            1450.0              9792.0\n",
      "4  1lycYGcsic2F             300.0               816.0\n"
     ]
    },
    {
     "name": "stderr",
     "output_type": "stream",
     "text": [
      "C:\\Users\\Hp\\AppData\\Local\\Temp\\ipykernel_20804\\460139524.py:17: SettingWithCopyWarning: \n",
      "A value is trying to be set on a copy of a slice from a DataFrame.\n",
      "Try using .loc[row_indexer,col_indexer] = value instead\n",
      "\n",
      "See the caveats in the documentation: https://pandas.pydata.org/pandas-docs/stable/user_guide/indexing.html#returning-a-view-versus-a-copy\n",
      "  df['product_volume_cm3'] = df['product_length_cm'] * df['product_width_cm'] * df['product_height_cm']\n"
     ]
    }
   ],
   "source": [
    "df_Products_cleaned = products_wrangler(df_Products)\n",
    "print(df_Products_cleaned.shape)\n",
    "print(df_Products_cleaned.head())"
   ]
  },
  {
   "cell_type": "code",
   "execution_count": 28,
   "metadata": {},
   "outputs": [
    {
     "data": {
      "text/plain": [
       "np.int64(61852)"
      ]
     },
     "execution_count": 28,
     "metadata": {},
     "output_type": "execute_result"
    }
   ],
   "source": [
    "df_Products_cleaned['product_id'].duplicated().sum()"
   ]
  },
  {
   "cell_type": "code",
   "execution_count": 21,
   "metadata": {},
   "outputs": [],
   "source": [
    "def orderitem_wrangler(df):\n",
    "    \"\"\"\n",
    "    Cleans and processes the order items dataset by selecting relevant columns and removing missing values.\n",
    "\n",
    "    Parameters:\n",
    "    df (pd.DataFrame): DataFrame containing order item details.\n",
    "\n",
    "    Returns:\n",
    "    pd.DataFrame: A cleaned DataFrame with the following columns:\n",
    "        - order_id\n",
    "        - product_id\n",
    "        - price\n",
    "        - shipping_charges\n",
    "    \"\"\"\n",
    "\n",
    "    # Select the required columns and drop rows with missing values\n",
    "    df_cleaned = df[['order_id', 'product_id', 'price', 'shipping_charges']].dropna().copy()\n",
    "\n",
    "    return df_cleaned\n"
   ]
  },
  {
   "cell_type": "code",
   "execution_count": 22,
   "metadata": {},
   "outputs": [
    {
     "name": "stdout",
     "output_type": "stream",
     "text": [
      "(89316, 4)\n"
     ]
    },
    {
     "data": {
      "application/vnd.microsoft.datawrangler.viewer.v0+json": {
       "columns": [
        {
         "name": "index",
         "rawType": "int64",
         "type": "integer"
        },
        {
         "name": "order_id",
         "rawType": "object",
         "type": "string"
        },
        {
         "name": "product_id",
         "rawType": "object",
         "type": "string"
        },
        {
         "name": "price",
         "rawType": "float64",
         "type": "float"
        },
        {
         "name": "shipping_charges",
         "rawType": "float64",
         "type": "float"
        }
       ],
       "conversionMethod": "pd.DataFrame",
       "ref": "b41094ca-0b32-485e-81e7-97cad29a6a24",
       "rows": [
        [
         "0",
         "Axfy13Hk4PIk",
         "90K0C1fIyQUf",
         "223.51",
         "84.65"
        ],
        [
         "1",
         "v6px92oS8cLG",
         "qejhpMGGVcsl",
         "170.8",
         "23.79"
        ],
        [
         "2",
         "Ulpf9skrhjfm",
         "qUS5d2pEAyxJ",
         "64.4",
         "17.38"
        ],
        [
         "3",
         "bwJVWupf2keN",
         "639iGvMyv0De",
         "264.5",
         "30.72"
        ],
        [
         "4",
         "Dd0QnrMk9Cj5",
         "1lycYGcsic2F",
         "779.9",
         "30.66"
        ]
       ],
       "shape": {
        "columns": 4,
        "rows": 5
       }
      },
      "text/html": [
       "<div>\n",
       "<style scoped>\n",
       "    .dataframe tbody tr th:only-of-type {\n",
       "        vertical-align: middle;\n",
       "    }\n",
       "\n",
       "    .dataframe tbody tr th {\n",
       "        vertical-align: top;\n",
       "    }\n",
       "\n",
       "    .dataframe thead th {\n",
       "        text-align: right;\n",
       "    }\n",
       "</style>\n",
       "<table border=\"1\" class=\"dataframe\">\n",
       "  <thead>\n",
       "    <tr style=\"text-align: right;\">\n",
       "      <th></th>\n",
       "      <th>order_id</th>\n",
       "      <th>product_id</th>\n",
       "      <th>price</th>\n",
       "      <th>shipping_charges</th>\n",
       "    </tr>\n",
       "  </thead>\n",
       "  <tbody>\n",
       "    <tr>\n",
       "      <th>0</th>\n",
       "      <td>Axfy13Hk4PIk</td>\n",
       "      <td>90K0C1fIyQUf</td>\n",
       "      <td>223.51</td>\n",
       "      <td>84.65</td>\n",
       "    </tr>\n",
       "    <tr>\n",
       "      <th>1</th>\n",
       "      <td>v6px92oS8cLG</td>\n",
       "      <td>qejhpMGGVcsl</td>\n",
       "      <td>170.80</td>\n",
       "      <td>23.79</td>\n",
       "    </tr>\n",
       "    <tr>\n",
       "      <th>2</th>\n",
       "      <td>Ulpf9skrhjfm</td>\n",
       "      <td>qUS5d2pEAyxJ</td>\n",
       "      <td>64.40</td>\n",
       "      <td>17.38</td>\n",
       "    </tr>\n",
       "    <tr>\n",
       "      <th>3</th>\n",
       "      <td>bwJVWupf2keN</td>\n",
       "      <td>639iGvMyv0De</td>\n",
       "      <td>264.50</td>\n",
       "      <td>30.72</td>\n",
       "    </tr>\n",
       "    <tr>\n",
       "      <th>4</th>\n",
       "      <td>Dd0QnrMk9Cj5</td>\n",
       "      <td>1lycYGcsic2F</td>\n",
       "      <td>779.90</td>\n",
       "      <td>30.66</td>\n",
       "    </tr>\n",
       "  </tbody>\n",
       "</table>\n",
       "</div>"
      ],
      "text/plain": [
       "       order_id    product_id   price  shipping_charges\n",
       "0  Axfy13Hk4PIk  90K0C1fIyQUf  223.51             84.65\n",
       "1  v6px92oS8cLG  qejhpMGGVcsl  170.80             23.79\n",
       "2  Ulpf9skrhjfm  qUS5d2pEAyxJ   64.40             17.38\n",
       "3  bwJVWupf2keN  639iGvMyv0De  264.50             30.72\n",
       "4  Dd0QnrMk9Cj5  1lycYGcsic2F  779.90             30.66"
      ]
     },
     "execution_count": 22,
     "metadata": {},
     "output_type": "execute_result"
    }
   ],
   "source": [
    "print(orderitem_wrangler(df_orderitem).shape)\n",
    "orderitem_wrangler(df_orderitem).head()"
   ]
  },
  {
   "cell_type": "code",
   "execution_count": null,
   "metadata": {},
   "outputs": [],
   "source": [
    "def create_combined_dataset(df_orders, df_orderitems, df_products):\n",
    "    df_orders_cleaned = order_wrangler(df_orders)\n",
    "    df_orderitems_cleaned = orderitem_wrangler(df_orderitems)\n",
    "    df_products_cleaned = products_wrangler(df_products)\n",
    "\n",
    "    # Drop duplicates if needed\n",
    "    df_products_cleaned = df_products_cleaned.drop_duplicates(subset='product_id')\n",
    "\n",
    "    # Merge orders with order items on 'order_id'\n",
    "    df_merged = pd.merge(df_orders_cleaned, df_orderitems_cleaned, on='order_id', how='inner')\n",
    "    print(f\"shape for df_merges: {df_merged.shape}\")\n",
    "\n",
    "    # Merge with products dataset on 'product_id'\n",
    "    df_final = pd.merge(df_merged, df_products_cleaned, on='product_id', how='inner')\n",
    "    print(f'Shape for df_final: {df_final.shape}')\n",
    "\n",
    "    return df_final\n"
   ]
  },
  {
   "cell_type": "code",
   "execution_count": 24,
   "metadata": {},
   "outputs": [
    {
     "name": "stderr",
     "output_type": "stream",
     "text": [
      "C:\\Users\\Hp\\AppData\\Local\\Temp\\ipykernel_20804\\460139524.py:17: SettingWithCopyWarning: \n",
      "A value is trying to be set on a copy of a slice from a DataFrame.\n",
      "Try using .loc[row_indexer,col_indexer] = value instead\n",
      "\n",
      "See the caveats in the documentation: https://pandas.pydata.org/pandas-docs/stable/user_guide/indexing.html#returning-a-view-versus-a-copy\n",
      "  df['product_volume_cm3'] = df['product_length_cm'] * df['product_width_cm'] * df['product_height_cm']\n"
     ]
    },
    {
     "name": "stdout",
     "output_type": "stream",
     "text": [
      "shape for df_merges: (89316, 9)\n",
      "Shape for df_final: (2529289, 11)\n"
     ]
    }
   ],
   "source": [
    "train_df = create_combined_dataset(df_orders=df_orders, df_orderitems=df_orderitem,df_products=df_Products)"
   ]
  },
  {
   "cell_type": "code",
   "execution_count": 25,
   "metadata": {},
   "outputs": [
    {
     "name": "stdout",
     "output_type": "stream",
     "text": [
      "(2529289, 11)\n"
     ]
    },
    {
     "data": {
      "application/vnd.microsoft.datawrangler.viewer.v0+json": {
       "columns": [
        {
         "name": "index",
         "rawType": "int64",
         "type": "integer"
        },
        {
         "name": "order_id",
         "rawType": "object",
         "type": "string"
        },
        {
         "name": "customer_id",
         "rawType": "object",
         "type": "string"
        },
        {
         "name": "approval_delay",
         "rawType": "float64",
         "type": "float"
        },
        {
         "name": "delivery_time",
         "rawType": "float64",
         "type": "float"
        },
        {
         "name": "estimated_delivery_days",
         "rawType": "int64",
         "type": "integer"
        },
        {
         "name": "delay_flag",
         "rawType": "int64",
         "type": "integer"
        },
        {
         "name": "product_id",
         "rawType": "object",
         "type": "string"
        },
        {
         "name": "price",
         "rawType": "float64",
         "type": "float"
        },
        {
         "name": "shipping_charges",
         "rawType": "float64",
         "type": "float"
        },
        {
         "name": "product_weight_g",
         "rawType": "float64",
         "type": "float"
        },
        {
         "name": "product_volume_cm3",
         "rawType": "float64",
         "type": "float"
        }
       ],
       "conversionMethod": "pd.DataFrame",
       "ref": "54cd7cff-4fa6-46ca-9c44-78bacccad3d5",
       "rows": [
        [
         "2495428",
         "k4HpW90MqMgh",
         "faSBmJbHXCLS",
         "0.09861111111111111",
         "13.0",
         "25",
         "0",
         "Biwi1BNtUB7l",
         "2130.0",
         "14.01",
         "1500.0",
         "19800.0"
        ],
        [
         "309457",
         "G0JVNWHJrVyH",
         "0dOm4ablp8Jv",
         "0.15888888888888889",
         "4.0",
         "19",
         "0",
         "Cf0ozOaWfJyb",
         "399.2",
         "20.9",
         "200.0",
         "1875.0"
        ],
        [
         "2469207",
         "yGnTdbM2QdzO",
         "mHjSIxxZTLrP",
         "0.1925",
         "6.0",
         "40",
         "0",
         "qokqKT1Sad1C",
         "34.0",
         "293.27",
         "7000.0",
         "36000.0"
        ],
        [
         "325795",
         "SB2UiC3b37dE",
         "emtbdJfjKTmp",
         "0.2",
         "8.0",
         "15",
         "0",
         "5J7az1rwth4i",
         "1094.04",
         "6.44",
         "250.0",
         "640.0"
        ],
        [
         "2090955",
         "HtwRIyMKPrfF",
         "YTTah4nH5mnu",
         "0.13527777777777777",
         "11.0",
         "24",
         "0",
         "HhAtKukEU7VT",
         "104.4",
         "126.47",
         "1867.0",
         "7776.0"
        ]
       ],
       "shape": {
        "columns": 11,
        "rows": 5
       }
      },
      "text/html": [
       "<div>\n",
       "<style scoped>\n",
       "    .dataframe tbody tr th:only-of-type {\n",
       "        vertical-align: middle;\n",
       "    }\n",
       "\n",
       "    .dataframe tbody tr th {\n",
       "        vertical-align: top;\n",
       "    }\n",
       "\n",
       "    .dataframe thead th {\n",
       "        text-align: right;\n",
       "    }\n",
       "</style>\n",
       "<table border=\"1\" class=\"dataframe\">\n",
       "  <thead>\n",
       "    <tr style=\"text-align: right;\">\n",
       "      <th></th>\n",
       "      <th>order_id</th>\n",
       "      <th>customer_id</th>\n",
       "      <th>approval_delay</th>\n",
       "      <th>delivery_time</th>\n",
       "      <th>estimated_delivery_days</th>\n",
       "      <th>delay_flag</th>\n",
       "      <th>product_id</th>\n",
       "      <th>price</th>\n",
       "      <th>shipping_charges</th>\n",
       "      <th>product_weight_g</th>\n",
       "      <th>product_volume_cm3</th>\n",
       "    </tr>\n",
       "  </thead>\n",
       "  <tbody>\n",
       "    <tr>\n",
       "      <th>2495428</th>\n",
       "      <td>k4HpW90MqMgh</td>\n",
       "      <td>faSBmJbHXCLS</td>\n",
       "      <td>0.098611</td>\n",
       "      <td>13.0</td>\n",
       "      <td>25</td>\n",
       "      <td>0</td>\n",
       "      <td>Biwi1BNtUB7l</td>\n",
       "      <td>2130.00</td>\n",
       "      <td>14.01</td>\n",
       "      <td>1500.0</td>\n",
       "      <td>19800.0</td>\n",
       "    </tr>\n",
       "    <tr>\n",
       "      <th>309457</th>\n",
       "      <td>G0JVNWHJrVyH</td>\n",
       "      <td>0dOm4ablp8Jv</td>\n",
       "      <td>0.158889</td>\n",
       "      <td>4.0</td>\n",
       "      <td>19</td>\n",
       "      <td>0</td>\n",
       "      <td>Cf0ozOaWfJyb</td>\n",
       "      <td>399.20</td>\n",
       "      <td>20.90</td>\n",
       "      <td>200.0</td>\n",
       "      <td>1875.0</td>\n",
       "    </tr>\n",
       "    <tr>\n",
       "      <th>2469207</th>\n",
       "      <td>yGnTdbM2QdzO</td>\n",
       "      <td>mHjSIxxZTLrP</td>\n",
       "      <td>0.192500</td>\n",
       "      <td>6.0</td>\n",
       "      <td>40</td>\n",
       "      <td>0</td>\n",
       "      <td>qokqKT1Sad1C</td>\n",
       "      <td>34.00</td>\n",
       "      <td>293.27</td>\n",
       "      <td>7000.0</td>\n",
       "      <td>36000.0</td>\n",
       "    </tr>\n",
       "    <tr>\n",
       "      <th>325795</th>\n",
       "      <td>SB2UiC3b37dE</td>\n",
       "      <td>emtbdJfjKTmp</td>\n",
       "      <td>0.200000</td>\n",
       "      <td>8.0</td>\n",
       "      <td>15</td>\n",
       "      <td>0</td>\n",
       "      <td>5J7az1rwth4i</td>\n",
       "      <td>1094.04</td>\n",
       "      <td>6.44</td>\n",
       "      <td>250.0</td>\n",
       "      <td>640.0</td>\n",
       "    </tr>\n",
       "    <tr>\n",
       "      <th>2090955</th>\n",
       "      <td>HtwRIyMKPrfF</td>\n",
       "      <td>YTTah4nH5mnu</td>\n",
       "      <td>0.135278</td>\n",
       "      <td>11.0</td>\n",
       "      <td>24</td>\n",
       "      <td>0</td>\n",
       "      <td>HhAtKukEU7VT</td>\n",
       "      <td>104.40</td>\n",
       "      <td>126.47</td>\n",
       "      <td>1867.0</td>\n",
       "      <td>7776.0</td>\n",
       "    </tr>\n",
       "  </tbody>\n",
       "</table>\n",
       "</div>"
      ],
      "text/plain": [
       "             order_id   customer_id  approval_delay  delivery_time  \\\n",
       "2495428  k4HpW90MqMgh  faSBmJbHXCLS        0.098611           13.0   \n",
       "309457   G0JVNWHJrVyH  0dOm4ablp8Jv        0.158889            4.0   \n",
       "2469207  yGnTdbM2QdzO  mHjSIxxZTLrP        0.192500            6.0   \n",
       "325795   SB2UiC3b37dE  emtbdJfjKTmp        0.200000            8.0   \n",
       "2090955  HtwRIyMKPrfF  YTTah4nH5mnu        0.135278           11.0   \n",
       "\n",
       "         estimated_delivery_days  delay_flag    product_id    price  \\\n",
       "2495428                       25           0  Biwi1BNtUB7l  2130.00   \n",
       "309457                        19           0  Cf0ozOaWfJyb   399.20   \n",
       "2469207                       40           0  qokqKT1Sad1C    34.00   \n",
       "325795                        15           0  5J7az1rwth4i  1094.04   \n",
       "2090955                       24           0  HhAtKukEU7VT   104.40   \n",
       "\n",
       "         shipping_charges  product_weight_g  product_volume_cm3  \n",
       "2495428             14.01            1500.0             19800.0  \n",
       "309457              20.90             200.0              1875.0  \n",
       "2469207            293.27            7000.0             36000.0  \n",
       "325795               6.44             250.0               640.0  \n",
       "2090955            126.47            1867.0              7776.0  "
      ]
     },
     "execution_count": 25,
     "metadata": {},
     "output_type": "execute_result"
    }
   ],
   "source": [
    "print(train_df.shape)\n",
    "train_df.sample(5)"
   ]
  },
  {
   "cell_type": "code",
   "execution_count": 26,
   "metadata": {},
   "outputs": [
    {
     "data": {
      "text/plain": [
       "<Axes: xlabel='price', ylabel='Count'>"
      ]
     },
     "execution_count": 26,
     "metadata": {},
     "output_type": "execute_result"
    },
    {
     "data": {
      "image/png": "[encoded data removed]",
      "text/plain": [
       "<Figure size 640x480 with 1 Axes>"
      ]
     },
     "metadata": {},
     "output_type": "display_data"
    }
   ],
   "source": [
    "sns.histplot(data=train_df, x='price', bins = 50)"
   ]
  },
  {
   "cell_type": "code",
   "execution_count": null,
   "metadata": {},
   "outputs": [],
   "source": []
  }
 ],
 "metadata": {
  "kernelspec": {
   "display_name": "env",
   "language": "python",
   "name": "python3"
  },
  "language_info": {
   "codemirror_mode": {
    "name": "ipython",
    "version": 3
   },
   "file_extension": ".py",
   "mimetype": "text/x-python",
   "name": "python",
   "nbconvert_exporter": "python",
   "pygments_lexer": "ipython3",
   "version": "3.11.0"
  }
 },
 "nbformat": 4,
 "nbformat_minor": 2
}
